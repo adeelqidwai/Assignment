{
 "cells": [
  {
   "cell_type": "code",
   "execution_count": 3,
   "id": "7fc4ab5d",
   "metadata": {},
   "outputs": [
    {
     "output_type": "stream",
     "name": "stdout",
     "text": [
      "After 4 years at 4.3%, the investment will be worth $1758.0.\n"
     ]
    }
   ],
   "source": [
    "## Q1. Write a program that computes simple interest. Prompt for the principal amount, the\n",
    "# rate as a percentage, and the time, and display the amount accrued (principal + interest).\n",
    "# The formula for simple interest is A = P(1 + rt), where P is the principal amount, r is the\n",
    "# annual rate of interest, t is the number of years the amount is invested, and A is the amount\n",
    "# at the end of the investment.\n",
    "# Example Output:\n",
    "# Enter the principal: 1500\n",
    "# Enter the rate of interest: 4.3\n",
    "# Enter the number of years: 4\n",
    "# “After 4 years at 4.3%, the investment will be worth $1758.”\n",
    "\n",
    "# def simple_interest(principal, rate, year):\n",
    "\n",
    "# Anwer # 1\n",
    "\n",
    "\n",
    "principal = int(input(\"Enter the principal amount: \" ,))\n",
    "rate = float(input(\"Enter Interest Rate :\"),)\n",
    "years = int(input(\"Enter the number of years: \",))\n",
    "\n",
    "a = principal *(1+((rate/100)*years))\n",
    "\n",
    "print(f\"After {years} years at {rate}%, the investment will be worth ${a}.\")\n",
    "\n"
   ]
  },
  {
   "cell_type": "code",
   "execution_count": 2,
   "id": "4b97b18a",
   "metadata": {},
   "outputs": [
    {
     "name": "stdout",
     "output_type": "stream",
     "text": [
      "What is the order amount? 10\n",
      "What is the state? \"WI\" or \"MN\" :wi\n",
      "The subtotal is $10.0\n",
      "The tax is $0.55\n",
      "The total is $10.55\n"
     ]
    }
   ],
   "source": [
    "# Q2. Write a program to compute the tax on an order amount. The program should prompt\n",
    "# for the order amount and the state. If the state is “WI,” then the order must be charged\n",
    "# 5.5% tax. The program should display the subtotal, tax, and total for Wisconsin residents\n",
    "# but display just the total for non-residents.\n",
    "# \n",
    "# Example Output\n",
    "# What is the order amount? 10\n",
    "# What is the state? WI\n",
    "# The subtotal is $10.00.\n",
    "# The tax is $0.55.\n",
    "# The total is $10.55.\n",
    "# Or\n",
    "# What is the order amount? 10\n",
    "# What is the state? MN\n",
    "# The total is $10.00\n",
    "\n",
    "# Answer\n",
    "\n",
    "order_amount = float(input(\"What is the order amount? \"))\n",
    "state = str(input('What is the state? \"WI\" or \"MN\" :'))\n",
    "tax = order_amount * .055\n",
    "\n",
    "\n",
    "if state == \"WI\" or state == \"wi\" or state == \"Wi\" or state == \"wI\":\n",
    "    print(f\"The subtotal is ${order_amount}\")\n",
    "    print(f\"The tax is ${tax}\")\n",
    "    print(f\"The total is ${order_amount+tax}\")\n",
    "else:\n",
    "    print(f\"The total is ${order_amount}\")\n",
    "\n"
   ]
  },
  {
   "cell_type": "code",
   "execution_count": 3,
   "id": "14979072",
   "metadata": {},
   "outputs": [
    {
     "name": "stdout",
     "output_type": "stream",
     "text": [
      "Enter your User Name\" :adeel\n",
      "Enter your password\" :ade1234\n",
      "I don't know you\n"
     ]
    }
   ],
   "source": [
    "#  Q3. Write a program that validates userlogin credentials. The program must prompt the user\n",
    "# for a username and password. The program should compare the password given by the user\n",
    "# to a known password. If the password matches, the program should display “Welcome!” If it\n",
    "# doesn’t m\n",
    "\n",
    "# Example Output\n",
    "# What is the password? 12345\n",
    "# I don't know you.\n",
    "# Or\n",
    "# What is the password? abc$123\n",
    "# Welcome!\n",
    "\n",
    "# Answer\n",
    "\n",
    "\n",
    "user_name = str(input('Enter your User Name\" :'))\n",
    "user_password = (input('Enter your password\" :'))\n",
    "\n",
    "password = \"abc$123\"\n",
    "\n",
    "\n",
    "if user_password != password:\n",
    "    print(\"I don't know you\")\n",
    "else:\n",
    "    print(f\"Welcome {user_name}!S\")\n",
    "\n"
   ]
  },
  {
   "cell_type": "code",
   "execution_count": 8,
   "id": "0eeee379",
   "metadata": {},
   "outputs": [
    {
     "output_type": "stream",
     "name": "stdout",
     "text": [
      "You are not old enough to legally Drive\n"
     ]
    }
   ],
   "source": [
    "# Q4\n",
    "\n",
    "\n",
    "# Answer \n",
    "\n",
    "age = int(input(\"Enter your age: \" ))\n",
    "\n",
    "if age < 16:\n",
    "    print(\"You are not old enough to legally Drive\")\n",
    "else:\n",
    "    print(\"You are old enough to Drive\")\n"
   ]
  },
  {
   "cell_type": "code",
   "execution_count": 5,
   "id": "cb259536",
   "metadata": {},
   "outputs": [
    {
     "name": "stdout",
     "output_type": "stream",
     "text": [
      " Press C to conver Farhrenheit to Celsius\n",
      " Press F to conver Celsius to Farhrenheit\n",
      " Your Choice is : f\n",
      "Enter the Tempurature Farhrenheit: 98\n",
      "The temputate in Clesius is 49.64 \n"
     ]
    }
   ],
   "source": [
    "# Q5\n",
    "\n",
    "\n",
    "# Answer \n",
    "\n",
    "print(\" Press C to conver Farhrenheit to Celsius\")\n",
    "print(\" Press F to conver Celsius to Farhrenheit\")\n",
    "\n",
    "\n",
    "temp_grade= str(input(\" Your Choice is : \"))\n",
    "input_temp = int(input(\"Enter the Tempurature: \"))\n",
    "temp = 0\n",
    "\n",
    "if temp_grade ==\"C\" or temp_grade == \"c\":\n",
    "    temp =  (input_temp-32) *5/9\n",
    "    print(f\"The temputate in Clesius is {temp} \")\n",
    "\n",
    "else:\n",
    "    temp = (input_temp*9/50) +32\n",
    "    print(f\"The temputate in Clesius is {temp} \")"
   ]
  },
  {
   "cell_type": "code",
   "execution_count": null,
   "id": "45f7ebcd",
   "metadata": {},
   "outputs": [],
   "source": []
  }
 ],
 "metadata": {
  "kernelspec": {
   "name": "python3",
   "display_name": "Python 3.9.4 64-bit"
  },
  "language_info": {
   "codemirror_mode": {
    "name": "ipython",
    "version": 3
   },
   "file_extension": ".py",
   "mimetype": "text/x-python",
   "name": "python",
   "nbconvert_exporter": "python",
   "pygments_lexer": "ipython3",
   "version": "3.9.4"
  },
  "interpreter": {
   "hash": "1ce61f98a80d930a0ce291414dd9beca607e60ba6e3bd105e1480a64ef144bc8"
  }
 },
 "nbformat": 4,
 "nbformat_minor": 5
}